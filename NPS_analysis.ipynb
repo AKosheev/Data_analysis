{
 "cells": [
  {
   "cell_type": "markdown",
   "id": "89961288",
   "metadata": {},
   "source": [
    "# Исследование текущего уровня пользовательской лояльности среди клиентов из России"
   ]
  },
  {
   "cell_type": "markdown",
   "id": "6f84d934",
   "metadata": {},
   "source": [
    "## Описание проекта"
   ]
  },
  {
   "cell_type": "markdown",
   "id": "67d48dde",
   "metadata": {},
   "source": [
    "**Заказчик этого исследования — большая телекоммуникационная компания, которая оказывает услуги на территории всего СНГ. Перед компанией стоит задача определить текущий уровень потребительской лояльности, или NPS (от англ. Net Promoter Score), среди клиентов из России.**"
   ]
  },
  {
   "cell_type": "code",
   "execution_count": 1,
   "id": "fc7efa54",
   "metadata": {},
   "outputs": [],
   "source": [
    "import os\n",
    "import pandas as pd\n",
    "import numpy as np\n",
    "\n",
    "\n",
    "from sqlalchemy import create_engine"
   ]
  },
  {
   "cell_type": "code",
   "execution_count": 2,
   "id": "0017f8e7",
   "metadata": {},
   "outputs": [],
   "source": [
    "path_to_db_local = 'telecomm_csi.db'\n",
    "path_to_db_platform = '/datasets/telecomm_csi.db'\n",
    "path_to_db = None\n",
    "\n",
    "if os.path.exists(path_to_db_local):\n",
    "    path_to_db = path_to_db_local\n",
    "elif os.path.exists(path_to_db_platform):\n",
    "    path_to_db = path_to_db_platform\n",
    "else:\n",
    "    raise Exception('Файл с базой данных SQLite не найден!')\n",
    "\n",
    "if path_to_db:\n",
    "    engine = create_engine(f'sqlite:///{path_to_db}', echo=False)"
   ]
  },
  {
   "cell_type": "code",
   "execution_count": 3,
   "id": "84ebad43",
   "metadata": {},
   "outputs": [],
   "source": [
    "query = \"\"\"\n",
    "SELECT u.user_id,\n",
    "       u.lt_day,\n",
    "       CASE WHEN u.lt_day <= 365 THEN 'новый клиент' ELSE 'старый клиент' END AS is_new,\n",
    "       u.age,\n",
    "       CASE WHEN u.gender_segment = 1 THEN 'женщина' \n",
    "            WHEN u.gender_segment = 0 THEN 'мужчина' \n",
    "            ELSE 'не определен'\n",
    "       END as gender_segment,\n",
    "       u.os_name,\n",
    "       u.cpe_type_name,\n",
    "       l.country,\n",
    "       l.city,\n",
    "       SUBSTR(ags.title, 4) AS age_segment,\n",
    "       SUBSTR(trs.title, 4) AS traffic_segment,\n",
    "       SUBSTR(lts.title, 4) AS lifetime_segment,\n",
    "       u.nps_score,\n",
    "       CASE\n",
    "           WHEN u.nps_score <= 6 THEN 'detractors'\n",
    "           WHEN u.nps_score >= 9 THEN 'promoters'\n",
    "           ELSE 'passives'\n",
    "       END AS nps_group    \n",
    "FROM USER AS u\n",
    "JOIN LOCATION AS l ON l.LOCATION_ID = u.LOCATION_ID\n",
    "JOIN AGE_SEGMENT AS ags ON ags.AGE_GR_ID = u.AGE_GR_ID\n",
    "JOIN TRAFFIC_SEGMENT AS trs ON trs.TR_GR_ID = u.TR_GR_ID\n",
    "JOIN LIFETIME_SEGMENT AS lts ON lts.LT_GR_ID = u.LT_GR_ID\n",
    "\"\"\""
   ]
  },
  {
   "cell_type": "code",
   "execution_count": 4,
   "id": "3965faf2",
   "metadata": {},
   "outputs": [
    {
     "data": {
      "text/plain": [
       "array(['женщина', 'мужчина', 'не определен'], dtype=object)"
      ]
     },
     "metadata": {},
     "output_type": "display_data"
    },
    {
     "data": {
      "text/html": [
       "<div>\n",
       "<style scoped>\n",
       "    .dataframe tbody tr th:only-of-type {\n",
       "        vertical-align: middle;\n",
       "    }\n",
       "\n",
       "    .dataframe tbody tr th {\n",
       "        vertical-align: top;\n",
       "    }\n",
       "\n",
       "    .dataframe thead th {\n",
       "        text-align: right;\n",
       "    }\n",
       "</style>\n",
       "<table border=\"1\" class=\"dataframe\">\n",
       "  <thead>\n",
       "    <tr style=\"text-align: right;\">\n",
       "      <th></th>\n",
       "      <th>user_id</th>\n",
       "      <th>lt_day</th>\n",
       "      <th>is_new</th>\n",
       "      <th>age</th>\n",
       "      <th>gender_segment</th>\n",
       "      <th>os_name</th>\n",
       "      <th>cpe_type_name</th>\n",
       "      <th>country</th>\n",
       "      <th>city</th>\n",
       "      <th>age_segment</th>\n",
       "      <th>traffic_segment</th>\n",
       "      <th>lifetime_segment</th>\n",
       "      <th>nps_score</th>\n",
       "      <th>nps_group</th>\n",
       "    </tr>\n",
       "  </thead>\n",
       "  <tbody>\n",
       "    <tr>\n",
       "      <th>0</th>\n",
       "      <td>A001A2</td>\n",
       "      <td>2320</td>\n",
       "      <td>старый клиент</td>\n",
       "      <td>45.0</td>\n",
       "      <td>женщина</td>\n",
       "      <td>ANDROID</td>\n",
       "      <td>SMARTPHONE</td>\n",
       "      <td>Россия</td>\n",
       "      <td>Уфа</td>\n",
       "      <td>45-54</td>\n",
       "      <td>1-5</td>\n",
       "      <td>36+</td>\n",
       "      <td>10</td>\n",
       "      <td>promoters</td>\n",
       "    </tr>\n",
       "    <tr>\n",
       "      <th>1</th>\n",
       "      <td>A001WF</td>\n",
       "      <td>2344</td>\n",
       "      <td>старый клиент</td>\n",
       "      <td>53.0</td>\n",
       "      <td>мужчина</td>\n",
       "      <td>ANDROID</td>\n",
       "      <td>SMARTPHONE</td>\n",
       "      <td>Россия</td>\n",
       "      <td>Киров</td>\n",
       "      <td>45-54</td>\n",
       "      <td>1-5</td>\n",
       "      <td>36+</td>\n",
       "      <td>10</td>\n",
       "      <td>promoters</td>\n",
       "    </tr>\n",
       "    <tr>\n",
       "      <th>2</th>\n",
       "      <td>A003Q7</td>\n",
       "      <td>467</td>\n",
       "      <td>старый клиент</td>\n",
       "      <td>57.0</td>\n",
       "      <td>мужчина</td>\n",
       "      <td>ANDROID</td>\n",
       "      <td>SMARTPHONE</td>\n",
       "      <td>Россия</td>\n",
       "      <td>Москва</td>\n",
       "      <td>55-64</td>\n",
       "      <td>20-25</td>\n",
       "      <td>13-24</td>\n",
       "      <td>10</td>\n",
       "      <td>promoters</td>\n",
       "    </tr>\n",
       "    <tr>\n",
       "      <th>3</th>\n",
       "      <td>A004TB</td>\n",
       "      <td>4190</td>\n",
       "      <td>старый клиент</td>\n",
       "      <td>44.0</td>\n",
       "      <td>женщина</td>\n",
       "      <td>IOS</td>\n",
       "      <td>SMARTPHONE</td>\n",
       "      <td>Россия</td>\n",
       "      <td>РостовнаДону</td>\n",
       "      <td>35-44</td>\n",
       "      <td>0.1-1</td>\n",
       "      <td>36+</td>\n",
       "      <td>10</td>\n",
       "      <td>promoters</td>\n",
       "    </tr>\n",
       "    <tr>\n",
       "      <th>4</th>\n",
       "      <td>A004XT</td>\n",
       "      <td>1163</td>\n",
       "      <td>старый клиент</td>\n",
       "      <td>24.0</td>\n",
       "      <td>мужчина</td>\n",
       "      <td>ANDROID</td>\n",
       "      <td>SMARTPHONE</td>\n",
       "      <td>Россия</td>\n",
       "      <td>Рязань</td>\n",
       "      <td>16-24</td>\n",
       "      <td>5-10</td>\n",
       "      <td>36+</td>\n",
       "      <td>10</td>\n",
       "      <td>promoters</td>\n",
       "    </tr>\n",
       "    <tr>\n",
       "      <th>5</th>\n",
       "      <td>A005O0</td>\n",
       "      <td>5501</td>\n",
       "      <td>старый клиент</td>\n",
       "      <td>42.0</td>\n",
       "      <td>женщина</td>\n",
       "      <td>ANDROID</td>\n",
       "      <td>SMARTPHONE</td>\n",
       "      <td>Россия</td>\n",
       "      <td>Омск</td>\n",
       "      <td>35-44</td>\n",
       "      <td>5-10</td>\n",
       "      <td>36+</td>\n",
       "      <td>6</td>\n",
       "      <td>detractors</td>\n",
       "    </tr>\n",
       "    <tr>\n",
       "      <th>6</th>\n",
       "      <td>A0061R</td>\n",
       "      <td>1236</td>\n",
       "      <td>старый клиент</td>\n",
       "      <td>45.0</td>\n",
       "      <td>мужчина</td>\n",
       "      <td>ANDROID</td>\n",
       "      <td>SMARTPHONE</td>\n",
       "      <td>Россия</td>\n",
       "      <td>Уфа</td>\n",
       "      <td>45-54</td>\n",
       "      <td>10-15</td>\n",
       "      <td>36+</td>\n",
       "      <td>10</td>\n",
       "      <td>promoters</td>\n",
       "    </tr>\n",
       "    <tr>\n",
       "      <th>7</th>\n",
       "      <td>A009KS</td>\n",
       "      <td>313</td>\n",
       "      <td>новый клиент</td>\n",
       "      <td>35.0</td>\n",
       "      <td>мужчина</td>\n",
       "      <td>ANDROID</td>\n",
       "      <td>SMARTPHONE</td>\n",
       "      <td>Россия</td>\n",
       "      <td>Москва</td>\n",
       "      <td>35-44</td>\n",
       "      <td>45-50</td>\n",
       "      <td>7-12</td>\n",
       "      <td>10</td>\n",
       "      <td>promoters</td>\n",
       "    </tr>\n",
       "    <tr>\n",
       "      <th>8</th>\n",
       "      <td>A00AES</td>\n",
       "      <td>3238</td>\n",
       "      <td>старый клиент</td>\n",
       "      <td>36.0</td>\n",
       "      <td>женщина</td>\n",
       "      <td>ANDROID</td>\n",
       "      <td>SMARTPHONE</td>\n",
       "      <td>Россия</td>\n",
       "      <td>СанктПетербург</td>\n",
       "      <td>35-44</td>\n",
       "      <td>1-5</td>\n",
       "      <td>36+</td>\n",
       "      <td>10</td>\n",
       "      <td>promoters</td>\n",
       "    </tr>\n",
       "    <tr>\n",
       "      <th>9</th>\n",
       "      <td>A00F70</td>\n",
       "      <td>4479</td>\n",
       "      <td>старый клиент</td>\n",
       "      <td>54.0</td>\n",
       "      <td>женщина</td>\n",
       "      <td>ANDROID</td>\n",
       "      <td>SMARTPHONE</td>\n",
       "      <td>Россия</td>\n",
       "      <td>Волгоград</td>\n",
       "      <td>45-54</td>\n",
       "      <td>15-20</td>\n",
       "      <td>36+</td>\n",
       "      <td>9</td>\n",
       "      <td>promoters</td>\n",
       "    </tr>\n",
       "  </tbody>\n",
       "</table>\n",
       "</div>"
      ],
      "text/plain": [
       "  user_id  lt_day         is_new   age gender_segment  os_name cpe_type_name  \\\n",
       "0  A001A2    2320  старый клиент  45.0        женщина  ANDROID    SMARTPHONE   \n",
       "1  A001WF    2344  старый клиент  53.0        мужчина  ANDROID    SMARTPHONE   \n",
       "2  A003Q7     467  старый клиент  57.0        мужчина  ANDROID    SMARTPHONE   \n",
       "3  A004TB    4190  старый клиент  44.0        женщина      IOS    SMARTPHONE   \n",
       "4  A004XT    1163  старый клиент  24.0        мужчина  ANDROID    SMARTPHONE   \n",
       "5  A005O0    5501  старый клиент  42.0        женщина  ANDROID    SMARTPHONE   \n",
       "6  A0061R    1236  старый клиент  45.0        мужчина  ANDROID    SMARTPHONE   \n",
       "7  A009KS     313   новый клиент  35.0        мужчина  ANDROID    SMARTPHONE   \n",
       "8  A00AES    3238  старый клиент  36.0        женщина  ANDROID    SMARTPHONE   \n",
       "9  A00F70    4479  старый клиент  54.0        женщина  ANDROID    SMARTPHONE   \n",
       "\n",
       "  country            city age_segment traffic_segment lifetime_segment  \\\n",
       "0  Россия             Уфа       45-54             1-5              36+   \n",
       "1  Россия           Киров       45-54             1-5              36+   \n",
       "2  Россия          Москва       55-64           20-25            13-24   \n",
       "3  Россия    РостовнаДону       35-44           0.1-1              36+   \n",
       "4  Россия          Рязань       16-24            5-10              36+   \n",
       "5  Россия            Омск       35-44            5-10              36+   \n",
       "6  Россия             Уфа       45-54           10-15              36+   \n",
       "7  Россия          Москва       35-44           45-50             7-12   \n",
       "8  Россия  СанктПетербург       35-44             1-5              36+   \n",
       "9  Россия       Волгоград       45-54           15-20              36+   \n",
       "\n",
       "   nps_score   nps_group  \n",
       "0         10   promoters  \n",
       "1         10   promoters  \n",
       "2         10   promoters  \n",
       "3         10   promoters  \n",
       "4         10   promoters  \n",
       "5          6  detractors  \n",
       "6         10   promoters  \n",
       "7         10   promoters  \n",
       "8         10   promoters  \n",
       "9          9   promoters  "
      ]
     },
     "metadata": {},
     "output_type": "display_data"
    }
   ],
   "source": [
    "df = pd.read_sql(query, engine)\n",
    "display(df['gender_segment'].unique())\n",
    "display(df.head(10))"
   ]
  },
  {
   "cell_type": "code",
   "execution_count": 5,
   "id": "9db04858",
   "metadata": {},
   "outputs": [],
   "source": [
    "df.to_csv('telecomm_csi_tableau.csv', index=False)"
   ]
  },
  {
   "cell_type": "markdown",
   "id": "e97bd9b1",
   "metadata": {},
   "source": [
    "## Ссылки на дашборд и презентацию"
   ]
  },
  {
   "cell_type": "markdown",
   "id": "5df49316",
   "metadata": {},
   "source": [
    "Ссылка на дашборд - https://public.tableau.com/app/profile/alexey.kosheev/viz/2_17083573675090/sheet0?publish=yes"
   ]
  },
  {
   "cell_type": "markdown",
   "id": "65cf53b0",
   "metadata": {},
   "source": [
    "Ссылка на презентацию - https://docs.google.com/presentation/d/1jfEijHcdJg-uCW3JhGRuw_FVXydASFyVbk5y50msO9g/edit?usp=sharing"
   ]
  }
 ],
 "metadata": {
  "ExecuteTimeLog": [
   {
    "duration": 6,
    "start_time": "2024-02-19T11:53:47.834Z"
   },
   {
    "duration": 45,
    "start_time": "2024-02-19T11:53:50.309Z"
   },
   {
    "duration": 486,
    "start_time": "2024-02-19T11:53:54.732Z"
   },
   {
    "duration": 95,
    "start_time": "2024-02-19T11:53:55.220Z"
   },
   {
    "duration": 2,
    "start_time": "2024-02-19T11:53:55.317Z"
   },
   {
    "duration": 599,
    "start_time": "2024-02-19T11:53:55.321Z"
   },
   {
    "duration": 2,
    "start_time": "2024-02-19T11:53:55.922Z"
   },
   {
    "duration": 3,
    "start_time": "2024-02-19T11:54:55.214Z"
   },
   {
    "duration": 585,
    "start_time": "2024-02-19T11:54:55.582Z"
   },
   {
    "duration": 2,
    "start_time": "2024-02-19T12:10:37.054Z"
   },
   {
    "duration": 583,
    "start_time": "2024-02-19T12:10:37.446Z"
   },
   {
    "duration": 2,
    "start_time": "2024-02-19T12:12:55.047Z"
   },
   {
    "duration": 587,
    "start_time": "2024-02-19T12:12:56.207Z"
   },
   {
    "duration": 2,
    "start_time": "2024-02-19T12:32:37.044Z"
   },
   {
    "duration": 762,
    "start_time": "2024-02-19T12:32:37.448Z"
   },
   {
    "duration": 3,
    "start_time": "2024-02-19T12:32:59.720Z"
   },
   {
    "duration": 8286,
    "start_time": "2024-02-19T12:33:00.161Z"
   },
   {
    "duration": 3,
    "start_time": "2024-02-19T13:01:36.486Z"
   },
   {
    "duration": 5058,
    "start_time": "2024-02-19T13:01:37.262Z"
   },
   {
    "duration": 5421,
    "start_time": "2024-02-19T13:02:16.903Z"
   },
   {
    "duration": 504,
    "start_time": "2024-02-19T13:05:07.731Z"
   },
   {
    "duration": 76,
    "start_time": "2024-02-19T13:05:08.237Z"
   },
   {
    "duration": 3,
    "start_time": "2024-02-19T13:05:08.315Z"
   },
   {
    "duration": 5493,
    "start_time": "2024-02-19T13:05:08.320Z"
   },
   {
    "duration": 5307,
    "start_time": "2024-02-19T13:05:13.815Z"
   },
   {
    "duration": 549,
    "start_time": "2024-02-19T13:21:27.173Z"
   },
   {
    "duration": 79,
    "start_time": "2024-02-19T13:21:27.724Z"
   },
   {
    "duration": 3,
    "start_time": "2024-02-19T13:21:27.805Z"
   },
   {
    "duration": 5458,
    "start_time": "2024-02-19T13:21:27.810Z"
   },
   {
    "duration": 4687,
    "start_time": "2024-02-19T13:21:33.270Z"
   },
   {
    "duration": 3,
    "start_time": "2024-02-19T13:21:37.959Z"
   },
   {
    "duration": 4236,
    "start_time": "2024-02-19T13:22:08.374Z"
   },
   {
    "duration": 501,
    "start_time": "2024-02-19T13:26:19.328Z"
   },
   {
    "duration": 79,
    "start_time": "2024-02-19T13:26:19.831Z"
   },
   {
    "duration": 3,
    "start_time": "2024-02-19T13:26:19.911Z"
   },
   {
    "duration": 5844,
    "start_time": "2024-02-19T13:26:19.916Z"
   },
   {
    "duration": 5106,
    "start_time": "2024-02-19T13:26:25.763Z"
   },
   {
    "duration": 489,
    "start_time": "2024-02-19T13:32:53.339Z"
   },
   {
    "duration": 80,
    "start_time": "2024-02-19T13:32:53.830Z"
   },
   {
    "duration": 3,
    "start_time": "2024-02-19T13:32:53.912Z"
   },
   {
    "duration": 5912,
    "start_time": "2024-02-19T13:32:53.916Z"
   },
   {
    "duration": 4869,
    "start_time": "2024-02-19T13:32:59.830Z"
   },
   {
    "duration": 5,
    "start_time": "2024-02-19T13:33:04.700Z"
   },
   {
    "duration": 142,
    "start_time": "2024-02-19T13:33:04.707Z"
   },
   {
    "duration": 104,
    "start_time": "2024-02-19T13:33:33.428Z"
   },
   {
    "duration": 502,
    "start_time": "2024-02-19T13:36:38.648Z"
   },
   {
    "duration": 85,
    "start_time": "2024-02-19T13:36:39.152Z"
   },
   {
    "duration": 3,
    "start_time": "2024-02-19T13:36:39.239Z"
   },
   {
    "duration": 5858,
    "start_time": "2024-02-19T13:36:39.244Z"
   },
   {
    "duration": 4717,
    "start_time": "2024-02-19T13:36:45.104Z"
   },
   {
    "duration": 8,
    "start_time": "2024-02-19T13:36:49.823Z"
   },
   {
    "duration": 76,
    "start_time": "2024-02-19T13:37:20.813Z"
   },
   {
    "duration": 4,
    "start_time": "2024-02-19T13:37:21.118Z"
   },
   {
    "duration": 4651,
    "start_time": "2024-02-19T13:38:45.209Z"
   },
   {
    "duration": 530,
    "start_time": "2024-02-19T15:05:30.123Z"
   },
   {
    "duration": 81,
    "start_time": "2024-02-19T15:05:30.656Z"
   },
   {
    "duration": 53,
    "start_time": "2024-02-19T15:05:30.739Z"
   },
   {
    "duration": 6307,
    "start_time": "2024-02-19T15:05:30.793Z"
   },
   {
    "duration": 5732,
    "start_time": "2024-02-19T15:05:37.103Z"
   },
   {
    "duration": 52,
    "start_time": "2024-02-26T20:13:01.869Z"
   },
   {
    "duration": 605,
    "start_time": "2024-02-26T20:13:10.100Z"
   },
   {
    "duration": 79,
    "start_time": "2024-02-26T20:13:10.707Z"
   },
   {
    "duration": 4,
    "start_time": "2024-02-26T20:13:10.787Z"
   },
   {
    "duration": 6139,
    "start_time": "2024-02-26T20:13:10.793Z"
   },
   {
    "duration": 4862,
    "start_time": "2024-02-26T20:13:16.934Z"
   },
   {
    "duration": 5758,
    "start_time": "2024-02-26T20:13:32.919Z"
   },
   {
    "duration": 521,
    "start_time": "2024-02-26T20:15:48.164Z"
   },
   {
    "duration": 96,
    "start_time": "2024-02-26T20:15:48.687Z"
   },
   {
    "duration": 4,
    "start_time": "2024-02-26T20:15:48.785Z"
   },
   {
    "duration": 623,
    "start_time": "2024-02-26T20:15:48.792Z"
   },
   {
    "duration": 0,
    "start_time": "2024-02-26T20:15:49.417Z"
   },
   {
    "duration": 561,
    "start_time": "2024-02-26T20:16:32.908Z"
   },
   {
    "duration": 67,
    "start_time": "2024-02-26T20:16:33.471Z"
   },
   {
    "duration": 4,
    "start_time": "2024-02-26T20:16:33.540Z"
   },
   {
    "duration": 661,
    "start_time": "2024-02-26T20:16:33.546Z"
   },
   {
    "duration": 0,
    "start_time": "2024-02-26T20:16:34.209Z"
   },
   {
    "duration": 544,
    "start_time": "2024-02-26T20:16:51.786Z"
   },
   {
    "duration": 67,
    "start_time": "2024-02-26T20:16:52.332Z"
   },
   {
    "duration": 3,
    "start_time": "2024-02-26T20:16:52.400Z"
   },
   {
    "duration": 5702,
    "start_time": "2024-02-26T20:16:52.405Z"
   },
   {
    "duration": 5849,
    "start_time": "2024-02-26T20:16:58.109Z"
   },
   {
    "duration": 5789,
    "start_time": "2024-02-26T20:18:13.031Z"
   },
   {
    "duration": 5728,
    "start_time": "2024-02-26T20:18:32.015Z"
   },
   {
    "duration": 57,
    "start_time": "2024-10-21T13:37:50.547Z"
   },
   {
    "duration": 565,
    "start_time": "2024-10-21T13:37:57.709Z"
   },
   {
    "duration": 75,
    "start_time": "2024-10-21T13:37:58.276Z"
   },
   {
    "duration": 3,
    "start_time": "2024-10-21T13:37:58.353Z"
   },
   {
    "duration": 5731,
    "start_time": "2024-10-21T13:37:58.358Z"
   },
   {
    "duration": 4821,
    "start_time": "2024-10-21T13:38:04.091Z"
   }
  ],
  "kernelspec": {
   "display_name": "Python 3 (ipykernel)",
   "language": "python",
   "name": "python3"
  },
  "language_info": {
   "codemirror_mode": {
    "name": "ipython",
    "version": 3
   },
   "file_extension": ".py",
   "mimetype": "text/x-python",
   "name": "python",
   "nbconvert_exporter": "python",
   "pygments_lexer": "ipython3",
   "version": "3.9.5"
  },
  "toc": {
   "base_numbering": 1,
   "nav_menu": {},
   "number_sections": true,
   "sideBar": true,
   "skip_h1_title": true,
   "title_cell": "Table of Contents",
   "title_sidebar": "Contents",
   "toc_cell": false,
   "toc_position": {},
   "toc_section_display": true,
   "toc_window_display": false
  }
 },
 "nbformat": 4,
 "nbformat_minor": 5
}
